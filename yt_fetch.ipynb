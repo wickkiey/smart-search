{
 "cells": [
  {
   "cell_type": "code",
   "execution_count": 58,
   "metadata": {},
   "outputs": [],
   "source": [
    "\n",
    "import os\n",
    "from dotenv import load_dotenv"
   ]
  },
  {
   "cell_type": "code",
   "execution_count": 59,
   "metadata": {},
   "outputs": [
    {
     "data": {
      "text/plain": [
       "True"
      ]
     },
     "execution_count": 59,
     "metadata": {},
     "output_type": "execute_result"
    }
   ],
   "source": [
    "load_dotenv()"
   ]
  },
  {
   "cell_type": "code",
   "execution_count": 60,
   "metadata": {},
   "outputs": [],
   "source": [
    "yt_api_key = os.environ.get(\"YT_API_KEY\")\n",
    "openai_api_key = os.environ.get(\"OPENAI_API_KEY\")"
   ]
  },
  {
   "cell_type": "code",
   "execution_count": 61,
   "metadata": {},
   "outputs": [
    {
     "name": "stdout",
     "output_type": "stream",
     "text": [
      "Title: Grilled Cheese and Tomato Soup, Video ID: PQ4yN68IbHc\n",
      "Title: Tomato Garlic Soup, Video ID: 4vUlSHs33Ts\n",
      "Title: Tomato Soup Recipe in 51 Seconds Restaurant Style, Video ID: NKO09-Rvkk4\n",
      "Title: Grilled Cheese &amp; Roasted Tomato Soup, Video ID: NAalzSoefU8\n",
      "Title: Creamy Tomato Soup | The Golden Balance, Video ID: s1YMjkPd2eo\n",
      "Title: Tonight I’m craving soup and grilled cheese... and yes it&#39;s in my cookbook. #shorts, Video ID: wDVKIfQauWQ\n",
      "Title: ROASTED TOMATO SOUP 🍅, Video ID: EAo3XMyxbg8\n",
      "Title: tomato soup recipe | cream of tomato soup | टमाटर सूप रेसिपी | tomatoe soup recipe, Video ID: JjoaBoTWCUM\n",
      "Title: The Best TOMATO SOUP RECIPE I Ever Made, Video ID: MkULY-TuRz0\n",
      "Title: Tomato soup, Video ID: c2zyaaatkK4\n",
      "Title: 😳 NO CREAM NO CORNFLOUR TOMATO 🍅 SOUP IN 10 mins | Easy Railway Style Tomato Soup | Healthy Soup, Video ID: gP4Ulh39Dpc\n",
      "Title: Tomato soup recipe | #shorts | how to make tomato soup | kabitaskitchen, Video ID: BAhiVcS_f44\n",
      "Title: होटल स्टाइल टमाटर का सूप बनाने की विधि | Healthy Tomato Soup Recipe #viral #shortvideo #treding, Video ID: m6PYaczc5nQ\n",
      "Title: It’s SOUPer delicious! 😋🍅, Video ID: pIjeKwrlfKE\n",
      "Title: Tomato Soup Recipe | टमाटर का सूप | Restaurant Style | Creamy Tomato Soup Sanjeev Kapoor Khazana, Video ID: 0E8lsv-Vcm4\n",
      "Title: roasted garlic tomato soup 🍅 #soup #recipe #cookingchannel #cooking #vegan, Video ID: vbEh6mSZMas\n",
      "Title: सर्दियों में टमाटर का सूप हेल्दी तरीके से बनायें | Tomato Soup Recipe | Healthy Soup |KabitasKitchen, Video ID: s2CX3JUdeWA\n",
      "Title: Incredibly Easy Homemade Tomato Soup | Cowboy Kent Rollins, Video ID: My8EdxW8-o8\n",
      "Title: Rich and Creamy Tomato Soup Recipe | SO Easy!, Video ID: szjZ3vqwyXE\n",
      "Title: Roasted Tomato Soup #shorts, Video ID: paUHmt72UlE\n"
     ]
    }
   ],
   "source": [
    "import os\n",
    "from googleapiclient.discovery import build\n",
    "\n",
    "# Create a YouTube Data API service\n",
    "youtube = build(\"youtube\", \"v3\", developerKey=yt_api_key)\n",
    "\n",
    "# Search for videos\n",
    "search_response = youtube.search().list(\n",
    "    q=\"tomato soup recipe\",\n",
    "    type=\"video\",\n",
    "    part=\"id,snippet\",\n",
    "    maxResults=20\n",
    ").execute()\n",
    "\n",
    "# Print video titles and IDs\n",
    "for item in search_response[\"items\"]:\n",
    "    print(f\"Title: {item['snippet']['title']}, Video ID: {item['id']['videoId']}\")\n"
   ]
  },
  {
   "cell_type": "code",
   "execution_count": 62,
   "metadata": {},
   "outputs": [],
   "source": [
    "# Response Dict contains the following\n",
    "# videoId, title, description\n",
    "\n",
    "response_list = []\n",
    "for item in search_response[\"items\"]:\n",
    "    response_dict = {\n",
    "        \"videoId\": item[\"id\"][\"videoId\"],\n",
    "        \"title\": item[\"snippet\"][\"title\"],\n",
    "        \"description\": item[\"snippet\"][\"description\"]\n",
    "    }\n",
    "    response_list.append(response_dict)"
   ]
  },
  {
   "cell_type": "code",
   "execution_count": 63,
   "metadata": {},
   "outputs": [
    {
     "data": {
      "text/plain": [
       "[{'videoId': 'PQ4yN68IbHc',\n",
       "  'title': 'Grilled Cheese and Tomato Soup',\n",
       "  'description': 'shorts #grilledcheese #tomatosoup.'},\n",
       " {'videoId': '4vUlSHs33Ts',\n",
       "  'title': 'Tomato Garlic Soup',\n",
       "  'description': 'Follow Toni: https://www.instagram.com/themoodyfoody.'},\n",
       " {'videoId': 'NKO09-Rvkk4',\n",
       "  'title': 'Tomato Soup Recipe in 51 Seconds Restaurant Style',\n",
       "  'description': 'Tomato Soup, must try recipe!'},\n",
       " {'videoId': 'NAalzSoefU8',\n",
       "  'title': 'Grilled Cheese &amp; Roasted Tomato Soup',\n",
       "  'description': \"Good soup Fix those late night cravings with some bomb as grilled cheese and spicy tomato soup here's my recipe: 6 ...\"},\n",
       " {'videoId': 's1YMjkPd2eo',\n",
       "  'title': 'Creamy Tomato Soup | The Golden Balance',\n",
       "  'description': 'shorts Creamy Tomato Soup 8 Roma tomatoes 1 onion 6-8 cloves of garlic 1 shallot 1 sprig of Rosemary and thyme Cover in ...'},\n",
       " {'videoId': 'wDVKIfQauWQ',\n",
       "  'title': 'Tonight I’m craving soup and grilled cheese... and yes it&#39;s in my cookbook. #shorts',\n",
       "  'description': 'Get your hands on a copy - https://bit.ly/3NJnsAN.'},\n",
       " {'videoId': 'EAo3XMyxbg8',\n",
       "  'title': 'ROASTED TOMATO SOUP 🍅',\n",
       "  'description': ''},\n",
       " {'videoId': 'JjoaBoTWCUM',\n",
       "  'title': 'tomato soup recipe | cream of tomato soup | टमाटर सूप रेसिपी | tomatoe soup recipe',\n",
       "  'description': 'full recipe: https://hebbarskitchen.com/cream-tomato-soup-recipe-tomatoe-soup/ Music: http://www.hooksounds.com/ tomato soup ...'},\n",
       " {'videoId': 'MkULY-TuRz0',\n",
       "  'title': 'The Best TOMATO SOUP RECIPE I Ever Made',\n",
       "  'description': \"This Creamy Tomato Soup is easy, comforting, and has a rich flavor. Watch the easy video tutorial and you'll be craving a bowl of ...\"},\n",
       " {'videoId': 'c2zyaaatkK4',\n",
       "  'title': 'Tomato soup',\n",
       "  'description': 'Check out @breadbakebeyond for more awesome recipes #tomatosoup #soup #easyrecipe #recipereview #grilledcheese ...'},\n",
       " {'videoId': 'gP4Ulh39Dpc',\n",
       "  'title': '😳 NO CREAM NO CORNFLOUR TOMATO 🍅 SOUP IN 10 mins | Easy Railway Style Tomato Soup | Healthy Soup',\n",
       "  'description': 'NO CREAM NO CORNFLOUR TOMATO SOUP IN 10 mins | Easy Railway Style Tomato Soup | Healthy Soup Railway-style ...'},\n",
       " {'videoId': 'BAhiVcS_f44',\n",
       "  'title': 'Tomato soup recipe | #shorts | how to make tomato soup | kabitaskitchen',\n",
       "  'description': ''},\n",
       " {'videoId': 'm6PYaczc5nQ',\n",
       "  'title': 'होटल स्टाइल टमाटर का सूप बनाने की विधि | Healthy Tomato Soup Recipe #viral #shortvideo #treding',\n",
       "  'description': 'In this video, you have learned how to make tomato soup recipe by Yummycook by Chhaya. This tomato soup recipe is a classic, ...'},\n",
       " {'videoId': 'pIjeKwrlfKE',\n",
       "  'title': 'It’s SOUPer delicious! 😋🍅',\n",
       "  'description': ''},\n",
       " {'videoId': '0E8lsv-Vcm4',\n",
       "  'title': 'Tomato Soup Recipe | टमाटर का सूप | Restaurant Style | Creamy Tomato Soup Sanjeev Kapoor Khazana',\n",
       "  'description': 'Easy to make recipe of Tomato Soup by Master Chef Sanjeev Kapoor. Try this Tomato soup rich in antioxidants, vitamin C and E. It ...'},\n",
       " {'videoId': 'vbEh6mSZMas',\n",
       "  'title': 'roasted garlic tomato soup 🍅 #soup #recipe #cookingchannel #cooking #vegan',\n",
       "  'description': ''},\n",
       " {'videoId': 's2CX3JUdeWA',\n",
       "  'title': 'सर्दियों में टमाटर का सूप हेल्दी तरीके से बनायें | Tomato Soup Recipe | Healthy Soup |KabitasKitchen',\n",
       "  'description': 'tomatosouprecipe #souprecipe #winterspecial #kabitaskitchen Preparation time - 30 minutes Serving - 2 to 3 Ingredients: ...'},\n",
       " {'videoId': 'My8EdxW8-o8',\n",
       "  'title': 'Incredibly Easy Homemade Tomato Soup | Cowboy Kent Rollins',\n",
       "  'description': \"Enjoy a big bowl of homemade creamy tomato soup. This is an easy soup recipe that you'l love. #tomatosoup ...\"},\n",
       " {'videoId': 'szjZ3vqwyXE',\n",
       "  'title': 'Rich and Creamy Tomato Soup Recipe | SO Easy!',\n",
       "  'description': \"All you need are a few kitchen staples, and you'll have this homemade Tomato Soup ready in no time. Creamy, rich, and flavorful, ...\"},\n",
       " {'videoId': 'paUHmt72UlE',\n",
       "  'title': 'Roasted Tomato Soup #shorts',\n",
       "  'description': ''}]"
      ]
     },
     "execution_count": 63,
     "metadata": {},
     "output_type": "execute_result"
    }
   ],
   "source": [
    "response_list"
   ]
  },
  {
   "cell_type": "code",
   "execution_count": 64,
   "metadata": {},
   "outputs": [],
   "source": [
    "from openai import OpenAI\n",
    "import json\n",
    "client = OpenAI(api_key=openai_api_key)\n",
    "\n",
    "def get_yt_search(query):\n",
    "    youtube = build(\"youtube\", \"v3\", developerKey=yt_api_key)\n",
    "    search_response = youtube.search().list(\n",
    "        q=query,\n",
    "        type=\"video\",\n",
    "        part=\"id,snippet\",\n",
    "        maxResults=10\n",
    "    ).execute()\n",
    "\n",
    "    response_list = []\n",
    "    for item in search_response[\"items\"]:\n",
    "        response_dict = {\n",
    "            \"videoId\": item[\"id\"][\"videoId\"],\n",
    "            \"title\": item[\"snippet\"][\"title\"],\n",
    "            \"description\": item[\"snippet\"][\"description\"]\n",
    "        }\n",
    "        response_list.append(response_dict)\n",
    "\n",
    "    return response_list\n",
    "\n",
    "def get_relevant_yt_ids(query):\n",
    "\n",
    "    response_list = get_yt_search(query)\n",
    "    response_list_str = json.dumps(response_list)\n",
    "    messages=[\n",
    "        {\"role\": \"system\", \"content\": f\"\"\"You are helpful educational Assistant. \n",
    "         Given videoId, title and description of a youtube video, you need to find the relevant videoIds, for user query.\n",
    "         Answer only top 5 videoIds from the given json data don't give videoId not in give data, in comma separated format, don't include any extra information.\n",
    "         Below is the json data you have :\n",
    "         {response_list_str}\"\"\"},\n",
    "        {\"role\": \"user\", \"content\": query},\n",
    "    ]\n",
    "    print(\"messages\", messages)\n",
    "    response = client.chat.completions.create(\n",
    "    model=\"gpt-3.5-turbo\",\n",
    "    messages=messages\n",
    "    )\n",
    "\n",
    "    relevant_ids = response.choices[0].message.content\n",
    "\n",
    "    return response_list, relevant_ids"
   ]
  },
  {
   "cell_type": "code",
   "execution_count": 65,
   "metadata": {},
   "outputs": [
    {
     "name": "stdout",
     "output_type": "stream",
     "text": [
      "messages [{'role': 'system', 'content': 'You are helpful educational Assistant. \\n         Given videoId, title and description of a youtube video, you need to find the relevant videoIds, for user query.\\n         Answer only top 5 videoIds from the given json data don\\'t give videoId not in give data, in comma separated format, don\\'t include any extra information.\\n         Below is the json data you have :\\n         [{\"videoId\": \"hYzwCsKGRrg\", \"title\": \"#42 Python Tutorial for Beginners | Anonymous Functions | Lambda\", \"description\": \"Spring and Microservices Live Course : https://bit.ly/springmslive Coupon: TELUSKO25 (25% Discount) Industry-Ready Java ...\"}, {\"videoId\": \"KR22jigJLok\", \"title\": \"Python Lambda Functions??\", \"description\": \"Join my Patreon: https://www.patreon.com/b001io Discord: https://discord.gg/jA8SShU8zJ Follow me on Twitter: ...\"}, {\"videoId\": \"25ovCm9jKfA\", \"title\": \"Lambda Expressions &amp; Anonymous Functions ||  Python Tutorial  ||  Learn Python Programming\", \"description\": \"Stay in the loop INFINITELY: https://snu.socratica.com/python Lambda expressions - also known as ...\"}, {\"videoId\": \"P8MdDCTbMOI\", \"title\": \"Python Lambda Function - 19 | Lambda Function In Python Explained | Python Tutorial | Simplilearn\", \"description\": \"Purdue Post Graduate Program In AI And Machine Learning: ...\"}, {\"videoId\": \"UfFWf-PXUqE\", \"title\": \"Lambda functions in Python | Python Tutorial - Day #52\", \"description\": \"Access the Playlist: https://www.youtube.com/playlist?list=PLu0W_9lII9agwh1XjRt242xIpHhPT2llg Link to the Repl: ...\"}, {\"videoId\": \"LQatU6WFZiM\", \"title\": \"Lambda() Function in Python \\\\ud83d\\\\udc0d with execution \\\\ud83d\\\\udc69\\\\u200d\\\\ud83d\\\\udcbb\", \"description\": \"Subscribe to our new channel:https://www.youtube.com/@varunainashots \\\\u25bb Python For Beginners(Complete Playlist): ...\"}, {\"videoId\": \"YestSrXCqY8\", \"title\": \"Python lambda \\\\u03bb\", \"description\": \"Python lambda function expression tutorial example explained #python #lambda #function # lambda function = function written in ...\"}, {\"videoId\": \"kn9wx9k19EE\", \"title\": \"Tutorial 21- Python Lambda Function With Real World Examples- Krish Naik Hindi\", \"description\": \"In Python, a lambda function (also called an anonymous function) is a small, anonymous function that can be defined in a single ...\"}, {\"videoId\": \"o1k-Jr_SGfk\", \"title\": \"Python Functions ||  Anonymous Functions and Lambda Functions ||  by Durga sir\", \"description\": \"java python python python by durgasoft python videos by durgasoft Python Online Training Learn Python Python Tutorial python ...\"}, {\"videoId\": \"ww2uPkwSjjY\", \"title\": \"Lambda Functions in Python | Map, Filter and Reduce | Higher Order Functions in Python\", \"description\": \"In this tutorial, we delve into the world of anonymous functions and explore how Lambda functions streamline your code.\"}]'}, {'role': 'user', 'content': 'python lambda'}]\n"
     ]
    }
   ],
   "source": [
    "response_list, video_ids = get_relevant_yt_ids(\"python lambda\")"
   ]
  },
  {
   "cell_type": "code",
   "execution_count": 66,
   "metadata": {},
   "outputs": [
    {
     "data": {
      "text/plain": [
       "'hYzwCsKGRrg, KR22jigJLok, 25ovCm9jKfA, P8MdDCTbMOI, UfFWf-PXUqE'"
      ]
     },
     "execution_count": 66,
     "metadata": {},
     "output_type": "execute_result"
    }
   ],
   "source": [
    "video_ids"
   ]
  },
  {
   "cell_type": "code",
   "execution_count": 71,
   "metadata": {},
   "outputs": [
    {
     "name": "stdout",
     "output_type": "stream",
     "text": [
      "https://www.youtube.com/watch?v=hYzwCsKGRrg\n",
      "https://www.youtube.com/watch?v=KR22jigJLok\n",
      "https://www.youtube.com/watch?v=25ovCm9jKfA\n",
      "https://www.youtube.com/watch?v=P8MdDCTbMOI\n",
      "https://www.youtube.com/watch?v=UfFWf-PXUqE\n"
     ]
    }
   ],
   "source": [
    "#youtube url \n",
    "video_ids_list = video_ids.split(\",\")\n",
    "video_ids_list = [x.strip() for x in video_ids_list]\n",
    "for videoId in video_ids_list:\n",
    "    print(\"https://www.youtube.com/watch?v=\" + videoId)"
   ]
  },
  {
   "cell_type": "code",
   "execution_count": null,
   "metadata": {},
   "outputs": [],
   "source": []
  }
 ],
 "metadata": {
  "kernelspec": {
   "display_name": "mlcpu",
   "language": "python",
   "name": "python3"
  },
  "language_info": {
   "codemirror_mode": {
    "name": "ipython",
    "version": 3
   },
   "file_extension": ".py",
   "mimetype": "text/x-python",
   "name": "python",
   "nbconvert_exporter": "python",
   "pygments_lexer": "ipython3",
   "version": "3.11.5"
  }
 },
 "nbformat": 4,
 "nbformat_minor": 2
}
